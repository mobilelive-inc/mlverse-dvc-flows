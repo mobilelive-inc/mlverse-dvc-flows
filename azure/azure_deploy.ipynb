{
 "cells": [
  {
   "cell_type": "markdown",
   "metadata": {},
   "source": [
    "## 1.1 Import the required libraries"
   ]
  },
  {
   "cell_type": "code",
   "execution_count": 52,
   "metadata": {},
   "outputs": [],
   "source": [
    "# import required libraries\n",
    "from azure.ai.ml import MLClient\n",
    "from azure.ai.ml.entities import (\n",
    "    ManagedOnlineEndpoint,\n",
    "    ManagedOnlineDeployment,\n",
    "    Model,\n",
    "    Environment,\n",
    "    CodeConfiguration,\n",
    ")\n",
    "from azure.identity import DefaultAzureCredential\n",
    "from azure.ai.ml.constants import AssetTypes"
   ]
  },
  {
   "cell_type": "code",
   "execution_count": 29,
   "metadata": {},
   "outputs": [],
   "source": [
    "# enter details of your AML workspace\n",
    "subscription_id = \"a12569cb-c541-46c4-b11b-14e35067c664\"\n",
    "resource_group = \"ml-verse-rg\"\n",
    "workspace = \"DvcFlow\""
   ]
  },
  {
   "cell_type": "code",
   "execution_count": 30,
   "metadata": {},
   "outputs": [],
   "source": [
    "# get a handle to the workspace\n",
    "ml_client = MLClient(\n",
    "    DefaultAzureCredential(), subscription_id, resource_group, workspace\n",
    ")"
   ]
  },
  {
   "cell_type": "code",
   "execution_count": 4,
   "metadata": {},
   "outputs": [
    {
     "ename": "ValidationException",
     "evalue": "We could not find config.json in: . or in its parent directories. Please provide the full path to the config file or ensure that config.json exists in the parent directories.",
     "output_type": "error",
     "traceback": [
      "\u001b[0;31m---------------------------------------------------------------------------\u001b[0m",
      "\u001b[0;31mValidationException\u001b[0m                       Traceback (most recent call last)",
      "Cell \u001b[0;32mIn[4], line 1\u001b[0m\n\u001b[0;32m----> 1\u001b[0m ml_client \u001b[38;5;241m=\u001b[39m \u001b[43mMLClient\u001b[49m\u001b[38;5;241;43m.\u001b[39;49m\u001b[43mfrom_config\u001b[49m\u001b[43m(\u001b[49m\u001b[43mDefaultAzureCredential\u001b[49m\u001b[43m(\u001b[49m\u001b[43m)\u001b[49m\u001b[43m)\u001b[49m\n",
      "File \u001b[0;32m~/Desktop/Python/mlverse-dvc-flows/env/lib/python3.11/site-packages/azure/ai/ml/_ml_client.py:776\u001b[0m, in \u001b[0;36mMLClient.from_config\u001b[0;34m(cls, credential, path, file_name, **kwargs)\u001b[0m\n\u001b[1;32m    770\u001b[0m     \u001b[38;5;28;01mif\u001b[39;00m \u001b[38;5;129;01mnot\u001b[39;00m found_path:\n\u001b[1;32m    771\u001b[0m         msg \u001b[38;5;241m=\u001b[39m (\n\u001b[1;32m    772\u001b[0m             \u001b[38;5;124m\"\u001b[39m\u001b[38;5;124mWe could not find config.json in: \u001b[39m\u001b[38;5;132;01m{}\u001b[39;00m\u001b[38;5;124m or in its parent directories. \u001b[39m\u001b[38;5;124m\"\u001b[39m\n\u001b[1;32m    773\u001b[0m             \u001b[38;5;124m\"\u001b[39m\u001b[38;5;124mPlease provide the full path to the config file or ensure that \u001b[39m\u001b[38;5;124m\"\u001b[39m\n\u001b[1;32m    774\u001b[0m             \u001b[38;5;124m\"\u001b[39m\u001b[38;5;124mconfig.json exists in the parent directories.\u001b[39m\u001b[38;5;124m\"\u001b[39m\n\u001b[1;32m    775\u001b[0m         )\n\u001b[0;32m--> 776\u001b[0m         \u001b[38;5;28;01mraise\u001b[39;00m ValidationException(\n\u001b[1;32m    777\u001b[0m             message\u001b[38;5;241m=\u001b[39mmsg\u001b[38;5;241m.\u001b[39mformat(path),\n\u001b[1;32m    778\u001b[0m             no_personal_data_message\u001b[38;5;241m=\u001b[39mmsg\u001b[38;5;241m.\u001b[39mformat(\u001b[38;5;124m\"\u001b[39m\u001b[38;5;124m[path]\u001b[39m\u001b[38;5;124m\"\u001b[39m),\n\u001b[1;32m    779\u001b[0m             target\u001b[38;5;241m=\u001b[39mErrorTarget\u001b[38;5;241m.\u001b[39mGENERAL,\n\u001b[1;32m    780\u001b[0m             error_category\u001b[38;5;241m=\u001b[39mErrorCategory\u001b[38;5;241m.\u001b[39mUSER_ERROR,\n\u001b[1;32m    781\u001b[0m         )\n\u001b[1;32m    783\u001b[0m subscription_id, resource_group, workspace_name \u001b[38;5;241m=\u001b[39m MLClient\u001b[38;5;241m.\u001b[39m_get_workspace_info(\u001b[38;5;28mstr\u001b[39m(found_path))\n\u001b[1;32m    785\u001b[0m module_logger\u001b[38;5;241m.\u001b[39minfo(\u001b[38;5;124m\"\u001b[39m\u001b[38;5;124mFound the config file in: \u001b[39m\u001b[38;5;132;01m%s\u001b[39;00m\u001b[38;5;124m\"\u001b[39m, found_path)\n",
      "\u001b[0;31mValidationException\u001b[0m: We could not find config.json in: . or in its parent directories. Please provide the full path to the config file or ensure that config.json exists in the parent directories."
     ]
    }
   ],
   "source": [
    "ml_client = MLClient.from_config(DefaultAzureCredential())"
   ]
  },
  {
   "cell_type": "markdown",
   "metadata": {},
   "source": [
    "## 2.1 Configure the endpoint"
   ]
  },
  {
   "cell_type": "code",
   "execution_count": 36,
   "metadata": {},
   "outputs": [
    {
     "data": {
      "text/plain": [
       "ManagedOnlineEndpoint({'public_network_access': 'Enabled', 'provisioning_state': 'Succeeded', 'scoring_uri': 'https://endpt-04261753717265.eastus2.inference.ml.azure.com/score', 'openapi_uri': 'https://endpt-04261753717265.eastus2.inference.ml.azure.com/swagger.json', 'name': 'endpt-04261753717265', 'description': 'this is a sample endpoint', 'tags': {}, 'properties': {'azureml.onlineendpointid': '/subscriptions/a12569cb-c541-46c4-b11b-14e35067c664/resourcegroups/ml-verse-rg/providers/microsoft.machinelearningservices/workspaces/dvcflow/onlineendpoints/endpt-04261753717265', 'AzureAsyncOperationUri': 'https://management.azure.com/subscriptions/a12569cb-c541-46c4-b11b-14e35067c664/providers/Microsoft.MachineLearningServices/locations/eastus2/mfeOperationsStatus/oe:3565b4d4-e664-44e2-897e-8576764e4fb0:6e13e31d-f1c8-4d38-a76c-bdad400ea7fd?api-version=2022-02-01-preview'}, 'print_as_yaml': False, 'id': '/subscriptions/a12569cb-c541-46c4-b11b-14e35067c664/resourceGroups/ml-verse-rg/providers/Microsoft.MachineLearningServices/workspaces/DvcFlow/onlineEndpoints/endpt-04261753717265', 'Resource__source_path': '', 'base_path': '/Users/zeeshanahmed/Desktop/Python/mlverse-dvc-flows/azure', 'creation_context': None, 'serialize': <msrest.serialization.Serializer object at 0x112771090>, 'auth_mode': 'key', 'location': 'eastus2', 'identity': <azure.ai.ml.entities._credentials.IdentityConfiguration object at 0x112772910>, 'traffic': {}, 'mirror_traffic': {}, 'kind': 'Managed'})"
      ]
     },
     "execution_count": 36,
     "metadata": {},
     "output_type": "execute_result"
    }
   ],
   "source": [
    "endpoint_name = \"my-endpoint\"\n",
    "\n",
    "# Example way to define a random name\n",
    "import datetime\n",
    "\n",
    "endpoint_name = \"endpt-\" + datetime.datetime.now().strftime(\"%m%d%H%M%f\")\n",
    "\n",
    "# create an online endpoint\n",
    "endpoint = ManagedOnlineEndpoint(\n",
    "    name = endpoint_name, \n",
    "    description=\"this is a sample endpoint\",\n",
    "    auth_mode=\"key\"\n",
    ")\n",
    "\n",
    "ml_client.begin_create_or_update(endpoint).result()"
   ]
  },
  {
   "cell_type": "markdown",
   "metadata": {},
   "source": [
    "## 3.1 Configure the deployment"
   ]
  },
  {
   "cell_type": "code",
   "execution_count": 43,
   "metadata": {
    "name": "blue_deployment"
   },
   "outputs": [
    {
     "data": {
      "text/plain": [
       "Model({'job_name': None, 'intellectual_property': None, 'is_anonymous': False, 'auto_increment_version': False, 'auto_delete_setting': None, 'name': 'dvc-model', 'description': 'Model created from local file.', 'tags': {}, 'properties': {}, 'print_as_yaml': False, 'id': '/subscriptions/a12569cb-c541-46c4-b11b-14e35067c664/resourceGroups/ml-verse-rg/providers/Microsoft.MachineLearningServices/workspaces/DvcFlow/models/dvc-model/versions/1', 'Resource__source_path': '', 'base_path': '/Users/zeeshanahmed/Desktop/Python/mlverse-dvc-flows/azure', 'creation_context': <azure.ai.ml.entities._system_data.SystemData object at 0x112e1bad0>, 'serialize': <msrest.serialization.Serializer object at 0x112da5210>, 'version': '1', 'latest_version': None, 'path': 'azureml://subscriptions/a12569cb-c541-46c4-b11b-14e35067c664/resourceGroups/ml-verse-rg/workspaces/DvcFlow/datastores/workspaceblobstore/paths/LocalUpload/c5337bde5f474181080ae24c80600c37/model.pkl', 'datastore': None, 'utc_time_created': None, 'flavors': None, 'arm_type': 'model_version', 'type': 'custom_model', 'stage': 'Development'})"
      ]
     },
     "execution_count": 43,
     "metadata": {},
     "output_type": "execute_result"
    }
   ],
   "source": [
    "## Optional\n",
    "\n",
    "# create a myModel deployment\n",
    "model_version=1\n",
    "\n",
    "file_model = Model(\n",
    "    path=\"../models/model.pkl\",\n",
    "    type=AssetTypes.CUSTOM_MODEL,\n",
    "    name=\"dvc-model\",\n",
    "    description=\"Model created from local file.\",\n",
    ")\n",
    "\n",
    "## Register Model\n",
    "ml_client.models.create_or_update(file_model)"
   ]
  },
  {
   "cell_type": "code",
   "execution_count": 55,
   "metadata": {},
   "outputs": [
    {
     "name": "stderr",
     "output_type": "stream",
     "text": [
      "Check: endpoint endpt-04261753717265 exists\n"
     ]
    },
    {
     "name": "stdout",
     "output_type": "stream",
     "text": [
      "....................."
     ]
    }
   ],
   "source": [
    "model = Model(path=\"../sklearn-dummy/sklearn_regression_model.pkl\")\n",
    "env = Environment(\n",
    "    conda_file=\"../sklearn-dummy/conda.yaml\",\n",
    "    image=\"mcr.microsoft.com/azureml/openmpi4.1.0-ubuntu20.04:latest\",\n",
    ")\n",
    "\n",
    "blue_deployment = ManagedOnlineDeployment(\n",
    "    name=\"blue\",\n",
    "    endpoint_name=endpoint_name,\n",
    "    model=model,\n",
    "    environment=env,\n",
    "    code_configuration=CodeConfiguration(\n",
    "        code=\"../sklearn-dummy\", scoring_script=\"score.py\"\n",
    "    ),\n",
    "    instance_type=\"Standard_F4s_v2\",\n",
    "    instance_count=1,\n",
    ")\n",
    "\n",
    "ml_client.online_deployments.begin_create_or_update(blue_deployment).result()"
   ]
  },
  {
   "cell_type": "code",
   "execution_count": null,
   "metadata": {
    "name": "endpoint.traffic"
   },
   "outputs": [],
   "source": [
    "# myModel deployment takes 100 traffic\n",
    "endpoint.traffic = {\"myModel\": 100}\n",
    "ml_client.begin_create_or_update(endpoint).result()"
   ]
  },
  {
   "cell_type": "code",
   "execution_count": null,
   "metadata": {},
   "outputs": [],
   "source": [
    "# Get the details for online endpoint\n",
    "endpoint = ml_client.online_endpoints.get(name=online_endpoint_name)\n",
    "\n",
    "# existing traffic details\n",
    "print(endpoint.traffic)\n",
    "\n",
    "# Get the scoring URI\n",
    "print(endpoint.scoring_uri)"
   ]
  }
 ],
 "metadata": {
  "description": {
   "description": "Deploy an mlflow model to an online endpoint. This will be a no-code-deployment. It doesn't require scoring script and environment."
  },
  "kernel_info": {
   "name": "python310-sdkv2"
  },
  "kernelspec": {
   "display_name": ".venv",
   "language": "python",
   "name": "python3"
  },
  "language_info": {
   "codemirror_mode": {
    "name": "ipython",
    "version": 3
   },
   "file_extension": ".py",
   "mimetype": "text/x-python",
   "name": "python",
   "nbconvert_exporter": "python",
   "pygments_lexer": "ipython3",
   "version": "3.11.3"
  },
  "nteract": {
   "version": "nteract-front-end@1.0.0"
  },
  "orig_nbformat": 4
 },
 "nbformat": 4,
 "nbformat_minor": 2
}
