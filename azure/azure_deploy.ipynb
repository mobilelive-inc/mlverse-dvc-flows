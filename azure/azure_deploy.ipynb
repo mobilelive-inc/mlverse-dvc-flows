{
 "cells": [
  {
   "cell_type": "markdown",
   "metadata": {},
   "source": [
    "## 1.1 Import the required libraries"
   ]
  },
  {
   "cell_type": "code",
   "execution_count": 52,
   "metadata": {},
   "outputs": [],
   "source": [
    "# import required libraries\n",
    "from azure.ai.ml import MLClient\n",
    "from azure.ai.ml.entities import (\n",
    "    ManagedOnlineEndpoint,\n",
    "    ManagedOnlineDeployment,\n",
    "    Model,\n",
    "    Environment,\n",
    "    CodeConfiguration,\n",
    ")\n",
    "from azure.identity import DefaultAzureCredential\n",
    "from azure.ai.ml.constants import AssetTypes"
   ]
  },
  {
   "cell_type": "code",
   "execution_count": 29,
   "metadata": {},
   "outputs": [],
   "source": [
    "# enter details of your AML workspace\n",
    "subscription_id = \"a12569cb-c541-46c4-b11b-14e35067c664\"\n",
    "resource_group = \"ml-verse-rg\"\n",
    "workspace = \"DvcFlow\""
   ]
  },
  {
   "cell_type": "code",
   "execution_count": 30,
   "metadata": {},
   "outputs": [],
   "source": [
    "# get a handle to the workspace\n",
    "ml_client = MLClient(\n",
    "    DefaultAzureCredential(), subscription_id, resource_group, workspace\n",
    ")"
   ]
  },
  {
   "cell_type": "markdown",
   "metadata": {},
   "source": [
    "## 2.1 Configure the endpoint"
   ]
  },
  {
   "cell_type": "code",
   "execution_count": 36,
   "metadata": {},
   "outputs": [
    {
     "data": {
      "text/plain": [
       "ManagedOnlineEndpoint({'public_network_access': 'Enabled', 'provisioning_state': 'Succeeded', 'scoring_uri': 'https://endpt-04261753717265.eastus2.inference.ml.azure.com/score', 'openapi_uri': 'https://endpt-04261753717265.eastus2.inference.ml.azure.com/swagger.json', 'name': 'endpt-04261753717265', 'description': 'this is a sample endpoint', 'tags': {}, 'properties': {'azureml.onlineendpointid': '/subscriptions/a12569cb-c541-46c4-b11b-14e35067c664/resourcegroups/ml-verse-rg/providers/microsoft.machinelearningservices/workspaces/dvcflow/onlineendpoints/endpt-04261753717265', 'AzureAsyncOperationUri': 'https://management.azure.com/subscriptions/a12569cb-c541-46c4-b11b-14e35067c664/providers/Microsoft.MachineLearningServices/locations/eastus2/mfeOperationsStatus/oe:3565b4d4-e664-44e2-897e-8576764e4fb0:6e13e31d-f1c8-4d38-a76c-bdad400ea7fd?api-version=2022-02-01-preview'}, 'print_as_yaml': False, 'id': '/subscriptions/a12569cb-c541-46c4-b11b-14e35067c664/resourceGroups/ml-verse-rg/providers/Microsoft.MachineLearningServices/workspaces/DvcFlow/onlineEndpoints/endpt-04261753717265', 'Resource__source_path': '', 'base_path': '/Users/zeeshanahmed/Desktop/Python/mlverse-dvc-flows/azure', 'creation_context': None, 'serialize': <msrest.serialization.Serializer object at 0x112771090>, 'auth_mode': 'key', 'location': 'eastus2', 'identity': <azure.ai.ml.entities._credentials.IdentityConfiguration object at 0x112772910>, 'traffic': {}, 'mirror_traffic': {}, 'kind': 'Managed'})"
      ]
     },
     "execution_count": 36,
     "metadata": {},
     "output_type": "execute_result"
    }
   ],
   "source": [
    "endpoint_name = \"my-endpoint\"\n",
    "\n",
    "# Example way to define a random name\n",
    "import datetime\n",
    "\n",
    "endpoint_name = \"endpt-\" + datetime.datetime.now().strftime(\"%m%d%H%M%f\")\n",
    "\n",
    "# create an online endpoint\n",
    "endpoint = ManagedOnlineEndpoint(\n",
    "    name = endpoint_name, \n",
    "    description=\"this is a sample endpoint\",\n",
    "    auth_mode=\"key\"\n",
    ")\n",
    "\n",
    "ml_client.begin_create_or_update(endpoint).result()"
   ]
  },
  {
   "cell_type": "markdown",
   "metadata": {},
   "source": [
    "## 3.1 Configure the deployment"
   ]
  },
  {
   "cell_type": "code",
   "execution_count": 43,
   "metadata": {
    "name": "blue_deployment"
   },
   "outputs": [
    {
     "data": {
      "text/plain": [
       "Model({'job_name': None, 'intellectual_property': None, 'is_anonymous': False, 'auto_increment_version': False, 'auto_delete_setting': None, 'name': 'dvc-model', 'description': 'Model created from local file.', 'tags': {}, 'properties': {}, 'print_as_yaml': False, 'id': '/subscriptions/a12569cb-c541-46c4-b11b-14e35067c664/resourceGroups/ml-verse-rg/providers/Microsoft.MachineLearningServices/workspaces/DvcFlow/models/dvc-model/versions/1', 'Resource__source_path': '', 'base_path': '/Users/zeeshanahmed/Desktop/Python/mlverse-dvc-flows/azure', 'creation_context': <azure.ai.ml.entities._system_data.SystemData object at 0x112e1bad0>, 'serialize': <msrest.serialization.Serializer object at 0x112da5210>, 'version': '1', 'latest_version': None, 'path': 'azureml://subscriptions/a12569cb-c541-46c4-b11b-14e35067c664/resourceGroups/ml-verse-rg/workspaces/DvcFlow/datastores/workspaceblobstore/paths/LocalUpload/c5337bde5f474181080ae24c80600c37/model.pkl', 'datastore': None, 'utc_time_created': None, 'flavors': None, 'arm_type': 'model_version', 'type': 'custom_model', 'stage': 'Development'})"
      ]
     },
     "execution_count": 43,
     "metadata": {},
     "output_type": "execute_result"
    }
   ],
   "source": [
    "## Optional\n",
    "\n",
    "# create a myModel deployment\n",
    "model_version=1\n",
    "\n",
    "file_model = Model(\n",
    "    path=\"../models/model.pkl\",\n",
    "    type=AssetTypes.CUSTOM_MODEL,\n",
    "    name=\"dvc-model\",\n",
    "    description=\"Model created from local file.\",\n",
    ")\n",
    "\n",
    "## Register Model\n",
    "ml_client.models.create_or_update(file_model)"
   ]
  },
  {
   "cell_type": "code",
   "execution_count": 55,
   "metadata": {},
   "outputs": [
    {
     "name": "stderr",
     "output_type": "stream",
     "text": [
      "Check: endpoint endpt-04261753717265 exists\n"
     ]
    },
    {
     "name": "stdout",
     "output_type": "stream",
     "text": [
      ".............................................................................."
     ]
    },
    {
     "data": {
      "text/plain": [
       "ManagedOnlineDeployment({'private_network_connection': None, 'package_model': False, 'provisioning_state': 'Succeeded', 'endpoint_name': 'endpt-04261753717265', 'type': 'Managed', 'name': 'blue', 'description': None, 'tags': {}, 'properties': {'AzureAsyncOperationUri': 'https://management.azure.com/subscriptions/a12569cb-c541-46c4-b11b-14e35067c664/providers/Microsoft.MachineLearningServices/locations/eastus2/mfeOperationsStatus/od:3565b4d4-e664-44e2-897e-8576764e4fb0:3cc735ce-9d37-42c0-9e53-9c084ebe2726?api-version=2023-04-01-preview'}, 'print_as_yaml': False, 'id': '/subscriptions/a12569cb-c541-46c4-b11b-14e35067c664/resourceGroups/ml-verse-rg/providers/Microsoft.MachineLearningServices/workspaces/DvcFlow/onlineEndpoints/endpt-04261753717265/deployments/blue', 'Resource__source_path': '', 'base_path': '/Users/zeeshanahmed/Desktop/Python/mlverse-dvc-flows/azure', 'creation_context': None, 'serialize': <msrest.serialization.Serializer object at 0x113704050>, 'model': '/subscriptions/a12569cb-c541-46c4-b11b-14e35067c664/resourceGroups/ml-verse-rg/providers/Microsoft.MachineLearningServices/workspaces/DvcFlow/models/7713d7a5680d37a33a7ac52530aec294/versions/1', 'code_configuration': {'code': '/subscriptions/a12569cb-c541-46c4-b11b-14e35067c664/resourceGroups/ml-verse-rg/providers/Microsoft.MachineLearningServices/workspaces/DvcFlow/codes/f678283b-5f37-4eb4-b627-70b297024fc8/versions/1'}, 'environment': '/subscriptions/a12569cb-c541-46c4-b11b-14e35067c664/resourceGroups/ml-verse-rg/providers/Microsoft.MachineLearningServices/workspaces/DvcFlow/environments/CliV2AnonymousEnvironment/versions/8a21e84929f87690a130d2728db9597c', 'environment_variables': {}, 'app_insights_enabled': False, 'scale_settings': <azure.ai.ml.entities._deployment.scale_settings.DefaultScaleSettings object at 0x11305d250>, 'request_settings': <azure.ai.ml.entities._deployment.deployment_settings.OnlineRequestSettings object at 0x1135d8690>, 'liveness_probe': <azure.ai.ml.entities._deployment.deployment_settings.ProbeSettings object at 0x112ea98d0>, 'readiness_probe': <azure.ai.ml.entities._deployment.deployment_settings.ProbeSettings object at 0x113704350>, 'instance_count': 1, 'arm_type': 'online_deployment', 'model_mount_path': None, 'instance_type': 'Standard_F4s_v2', 'data_collector': None, 'egress_public_network_access': 'Enabled'})"
      ]
     },
     "execution_count": 55,
     "metadata": {},
     "output_type": "execute_result"
    }
   ],
   "source": [
    "model = Model(path=\"../sklearn-dummy/sklearn_regression_model.pkl\")\n",
    "env = Environment(\n",
    "    conda_file=\"../sklearn-dummy/conda.yaml\",\n",
    "    image=\"mcr.microsoft.com/azureml/openmpi4.1.0-ubuntu20.04:latest\",\n",
    ")\n",
    "\n",
    "blue_deployment = ManagedOnlineDeployment(\n",
    "    name=\"blue\",\n",
    "    endpoint_name=endpoint_name,\n",
    "    model=model,\n",
    "    environment=env,\n",
    "    code_configuration=CodeConfiguration(\n",
    "        code=\"../sklearn-dummy\", scoring_script=\"score.py\"\n",
    "    ),\n",
    "    instance_type=\"Standard_F4s_v2\",\n",
    "    instance_count=1,\n",
    ")\n",
    "\n",
    "ml_client.online_deployments.begin_create_or_update(blue_deployment).result()"
   ]
  },
  {
   "cell_type": "code",
   "execution_count": 59,
   "metadata": {
    "name": "endpoint.traffic"
   },
   "outputs": [
    {
     "data": {
      "text/plain": [
       "ManagedOnlineEndpoint({'public_network_access': 'Enabled', 'provisioning_state': 'Succeeded', 'scoring_uri': 'https://endpt-04261753717265.eastus2.inference.ml.azure.com/score', 'openapi_uri': 'https://endpt-04261753717265.eastus2.inference.ml.azure.com/swagger.json', 'name': 'endpt-04261753717265', 'description': 'this is a sample endpoint', 'tags': {}, 'properties': {'azureml.onlineendpointid': '/subscriptions/a12569cb-c541-46c4-b11b-14e35067c664/resourcegroups/ml-verse-rg/providers/microsoft.machinelearningservices/workspaces/dvcflow/onlineendpoints/endpt-04261753717265', 'AzureAsyncOperationUri': 'https://management.azure.com/subscriptions/a12569cb-c541-46c4-b11b-14e35067c664/providers/Microsoft.MachineLearningServices/locations/eastus2/mfeOperationsStatus/oe:3565b4d4-e664-44e2-897e-8576764e4fb0:0a847e09-6a3a-4fd3-84d9-91f35c5e59fe?api-version=2022-02-01-preview'}, 'print_as_yaml': False, 'id': '/subscriptions/a12569cb-c541-46c4-b11b-14e35067c664/resourceGroups/ml-verse-rg/providers/Microsoft.MachineLearningServices/workspaces/DvcFlow/onlineEndpoints/endpt-04261753717265', 'Resource__source_path': '', 'base_path': '/Users/zeeshanahmed/Desktop/Python/mlverse-dvc-flows/azure', 'creation_context': None, 'serialize': <msrest.serialization.Serializer object at 0x1128866d0>, 'auth_mode': 'key', 'location': 'eastus2', 'identity': <azure.ai.ml.entities._credentials.IdentityConfiguration object at 0x112887810>, 'traffic': {'blue': 100}, 'mirror_traffic': {}, 'kind': 'Managed'})"
      ]
     },
     "execution_count": 59,
     "metadata": {},
     "output_type": "execute_result"
    }
   ],
   "source": [
    "# myModel deployment takes 100 traffic\n",
    "endpoint.traffic = {\"blue\": 100}\n",
    "ml_client.begin_create_or_update(endpoint).result()"
   ]
  }
 ],
 "metadata": {
  "description": {
   "description": "Deploy an mlflow model to an online endpoint. This will be a no-code-deployment. It doesn't require scoring script and environment."
  },
  "kernel_info": {
   "name": "python310-sdkv2"
  },
  "kernelspec": {
   "display_name": ".venv",
   "language": "python",
   "name": "python3"
  },
  "language_info": {
   "codemirror_mode": {
    "name": "ipython",
    "version": 3
   },
   "file_extension": ".py",
   "mimetype": "text/x-python",
   "name": "python",
   "nbconvert_exporter": "python",
   "pygments_lexer": "ipython3",
   "version": "3.11.3"
  },
  "nteract": {
   "version": "nteract-front-end@1.0.0"
  },
  "orig_nbformat": 4
 },
 "nbformat": 4,
 "nbformat_minor": 2
}
